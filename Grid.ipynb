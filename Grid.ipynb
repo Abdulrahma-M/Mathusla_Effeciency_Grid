{
  "cells": [
    {
      "cell_type": "code",
      "execution_count": null,
      "metadata": {
        "id": "5jM0dpeiwoh1"
      },
      "outputs": [],
      "source": [
        "import importlib\n",
        "from importlib import reload\n",
        "import os, sys, glob, warnings, glob\n",
        "import numpy as np \n",
        "import scipy as sp\n",
        "import joblib\n",
        "# from tqdm.notebook import tqdm\n",
        "from tqdm import tqdm\n",
        "import ROOT as root\n",
        "import matplotlib.pyplot as plt\n",
        "from matplotlib import collections, colors, transforms\n",
        "%matplotlib inline\n",
        "%config InlineBackend.figure_format='retina'\n"
      ]
    },
    {
      "cell_type": "code",
      "source": [
        "import visualization, util, event, cutflow, detector\n",
        "importlib.reload(event)\n",
        "importlib.reload(visualization)\n",
        "importlib.reload(util)\n",
        "importlib.reload(detector)\n",
        "import visualization as vis"
      ],
      "metadata": {
        "id": "dOM5aIrJojMX"
      },
      "execution_count": null,
      "outputs": []
    },
    {
      "cell_type": "code",
      "execution_count": 65,
      "metadata": {
        "id": "vxQ55wtRhwds"
      },
      "outputs": [],
      "source": [
        "def grid_eff(self, xlim,ylim,zlim):\n",
        "  x_step=(xLim[1]-xLim[0])/10\n",
        "  y_step=(yLim[1]-yLim[0])/10\n",
        "  z_step=(zLim[1]-zLim[0])/10\n",
        "  z_step_det=(zLim[1]-zLim[0])/10\n",
        "  self.grid = []\n",
        "  self.U_dir=[]\n",
        "  for i in range(0,10):\n",
        "    for j in range(0,10):\n",
        "      for k in range(0,10):\n",
        "        pos= np.array([xLim[0] + (i+0.5)*x_step  , yLim[0] + (j+0.5)*y_step, -(zLim_det[0] + (k+0.5)*z_step)])\n",
        "        mod= np.sqrt(pow(pos[0],2) + pow(pos[1],2)+ pow(pos[2],2))\n",
        "        self.U_dir.append(pos/mod)\n",
        "        self.grid.append(pos)"
      ]
    },
    {
      "cell_type": "code",
      "source": [
        "def gen_scripts(grid_out):\n",
        "  grid  = grid_out.grid  \n",
        "  U_dir = grid_out.U_dir  \n",
        "  L=[\"/det/select Box \\n\",\"/vis/filtering/trajectories/create/chargeFilter \\n\",\"/vis/filtering/trajectories/chargeFilter-0/add 0 \\n\",\"/vis/filtering/trajectories/chargeFilter-0/invert true \\n\",\n",
        "   \"/vis/filtering/trajectories/chargeFilter-0/verbose false \\n\",\"/vis/filtering/trajectories/chargeFilter-0/active true\\n\",\n",
        "    \"/vis/ogl/set/displayListLimit 1000000 \\n\",\"/gen/select range \\n\",\"/gen/range/id 13 \\n\",\"/gen/range/t0 0 ns \\n\"]\n",
        "\n",
        "  L2 =[\"/gen/range/phi_min -{phi} rad \\n\", \n",
        "  \"/gen/range/phi_max  {phi} rad \\n\",\n",
        "  \"/gen/range/eta_min -{eta} \\n\",\n",
        "  \"/gen/range/eta_max  {eta} \\n\",\"/gen/range/p_mag {energy} GeV/c \\n\", \"/run/beamOn {count} \\n\"]\n",
        "  for i in range(len(grid)):\n",
        "    file =open(f\"{}_{}_{}.mac\".format(grid[i][0],grid[i][1],grid[i][2]).mac\",\"x\")\n",
        "    file.writelines(L)\n",
        "    file.write(\"/gen/range/vertex\" + \" \" + \"{} {} {} m \\n\".format(grid[i][0],grid[i][1],grid[i][2]))\n",
        "    file.write(f\"/gen/range/p_unit\" + \" \" + \"{} {} {} \\n\".format(U_dir[i][0],U_dir[i][1],U_dir[i][2]))\n",
        "    file.writelines(L2)\n",
        "\n",
        "    file.close()\n",
        "\n"
      ],
      "metadata": {
        "id": "F4CFS4dOxKgW"
      },
      "execution_count": 42,
      "outputs": []
    },
    {
      "cell_type": "code",
      "source": [
        "yLim=[-50,50]\n",
        "xLim=[70,170]\n",
        "zLim=[65.47,85.47]\n",
        "zLim_det=[0,20]\n",
        "CMS=[0,0,0]\n",
        "grid_eff(grid_eff, xLim, yLim, zLim_det)"
      ],
      "metadata": {
        "id": "46m7OFKeuXxi"
      },
      "execution_count": null,
      "outputs": []
    },
    {
      "cell_type": "code",
      "source": [
        "#Verify the Grid Placment\n",
        "\n",
        "fig,axs=plt.subplots(1,2,figsize=(12,4))\n",
        "xlabels=[\"x [m]\", \"y [m]\"]\n",
        "\n",
        "for point in grid_eff.grid:\n",
        "  axs[0].plot(point[1],point[2],marker=\".\",color=\"grey\",alpha=0.1)\n",
        "  axs[1].plot(point[0],point[2],marker=\".\",color=\"grey\",alpha=0.1)\n",
        "\n",
        "vis.drawdet_xz(axis=axs[0])\n",
        "vis.drawdet_xz(axis=axs[1])\n",
        "axs[0].set_xlabel('x [m]')\n",
        "axs[0].set_ylabel('z [m]')\n",
        "axs[1].set_xlabel('y [m]')\n",
        "axs[1].set_ylabel('z [m]')\n",
        "axs[0].set_xlim(-50,50)\n",
        "axs[1].set_xlim(70,170)\n",
        "plt.show()"
      ],
      "metadata": {
        "id": "89ZHFTOpoJaA"
      },
      "execution_count": null,
      "outputs": []
    },
    {
      "cell_type": "code",
      "execution_count": null,
      "metadata": {
        "id": "v6Sa2Ub3x7y6"
      },
      "outputs": [],
      "source": [
        "#Generate the scripts\n",
        "yLim=[-50,50]\n",
        "xLim=[70,170]\n",
        "zLim=[65.47,85.47]\n",
        "zLim_det=[0,20]\n",
        "CMS=[0,0,0]\n",
        "grid_eff(grid_eff, xLim, yLim, zLim_det)\n",
        "gen_scripts(grid_eff) "
      ]
    }
  ],
  "metadata": {
    "colab": {
      "provenance": []
    },
    "kernelspec": {
      "display_name": "Python 3",
      "name": "python3"
    },
    "language_info": {
      "name": "python"
    }
  },
  "nbformat": 4,
  "nbformat_minor": 0
}
